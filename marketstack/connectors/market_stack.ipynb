{
 "cells": [
  {
   "cell_type": "code",
   "execution_count": null,
   "metadata": {},
   "outputs": [],
   "source": [
    "import requests\n",
    "# get alpaca api keys using this guide: https://alpaca.markets/docs/market-data/getting-started/#creating-an-alpaca-account-and-finding-your-api-keys\n",
    "#from secrets_config import api_key_id, api_secret_key \n",
    "import pandas as pd\n",
    "from datetime import datetime, timezone"
   ]
  },
  {
   "cell_type": "code",
   "execution_count": null,
   "metadata": {},
   "outputs": [],
   "source": [
    "tickers = [\"AAPL\",\"MSFT\"]\n",
    "api_key = \"d564b4a470ad5f851ffcb7f9de554cfa\"\n",
    "url = f\"http://api.marketstack.com/v1/eod?access_key={api_key}\"\n",
    "\n",
    "\"\"\" \n",
    "we are getting data from the end of day (eod) api end point\n",
    "requests library creates the object response given the url and query which we pass to params\n",
    "this returns a json with two object \"pagination\" and \"data\" \n",
    "\"data\" is a list of dicts with key value value parts showing the columns and values\n",
    "\n",
    "\"\"\"\n",
    "\n",
    "response_data = []\n",
    "for ticker in tickers:\n",
    "    params = {\n",
    "        \"symbols\":ticker,\n",
    "        \"date_from\":\"2024-09-22\",\n",
    "        \"date_to\":\"2024-09-24\"\n",
    "    }\n",
    "    response = requests.get(url,params=params)\n",
    "    if response.json().get(\"data\") is not None: \n",
    "        response_data.extend(response.json().get(\"data\"))\n",
    "\n",
    "print(response_data)"
   ]
  },
  {
   "cell_type": "code",
   "execution_count": null,
   "metadata": {},
   "outputs": [],
   "source": [
    "df_eods = pd.DataFrame(response_data)\n",
    "df_eods"
   ]
  }
 ],
 "metadata": {
  "language_info": {
   "name": "python"
  }
 },
 "nbformat": 4,
 "nbformat_minor": 2
}
